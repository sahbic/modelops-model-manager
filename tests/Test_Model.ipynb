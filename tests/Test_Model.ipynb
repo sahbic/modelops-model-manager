{
 "cells": [
  {
   "cell_type": "code",
   "execution_count": 15,
   "id": "176b3d3f-7367-49a5-90bb-ade6252b25bd",
   "metadata": {},
   "outputs": [],
   "source": [
    "import requests\n",
    "import os"
   ]
  },
  {
   "cell_type": "code",
   "execution_count": 21,
   "id": "43ab6db8-2b5f-4ccf-86f8-bb7c79ca41f8",
   "metadata": {},
   "outputs": [],
   "source": [
    "input_path = '../data/hmeq_id.csv'           # input file\n",
    "host = 'http://10.96.17.246'      # docker host\n",
    "port= \":16666\"\n",
    "\n",
    "headers = {'Accept': 'application/json'}\n",
    "file_name = os.path.basename(input_path)\n",
    "files = {'file': (file_name, open(input_path, 'rb'), 'application/octet-stream')}"
   ]
  },
  {
   "cell_type": "code",
   "execution_count": 22,
   "id": "06077f74",
   "metadata": {},
   "outputs": [
    {
     "data": {
      "text/plain": [
       "{'id': '1644510830.1861038', 'status': 201}"
      ]
     },
     "execution_count": 22,
     "metadata": {},
     "output_type": "execute_result"
    }
   ],
   "source": [
    "# execute model on input data\n",
    "response = requests.post(host+port+'/executions', files=files, headers=headers)\n",
    "resp_json = response.json()\n",
    "\n",
    "print(resp_json)"
   ]
  },
  {
   "cell_type": "code",
   "execution_count": 23,
   "id": "62a6c883",
   "metadata": {},
   "outputs": [
    {
     "data": {
      "text/plain": [
       "156"
      ]
     },
     "execution_count": 23,
     "metadata": {},
     "output_type": "execute_result"
    }
   ],
   "source": [
    "# query parameters\n",
    "test_id = resp_json['id']\n",
    "result_file = resp_json['id'] + '.csv' \n",
    "\n",
    "# query the results\n",
    "result_url = host+port+'/query/' + test_id\n",
    "r = requests.get(result_url, allow_redirects=True)\n",
    "\n",
    "# save to csv file\n",
    "scored_file= test_id + '.csv' \n",
    "open(scored_file, 'wb').write(r.content)"
   ]
  },
  {
   "cell_type": "code",
   "execution_count": 24,
   "id": "fa8ba7f6",
   "metadata": {},
   "outputs": [
    {
     "data": {
      "text/plain": [
       "'http://10.96.17.246:16666/query/1644510830.1861038'"
      ]
     },
     "execution_count": 24,
     "metadata": {},
     "output_type": "execute_result"
    }
   ],
   "source": [
    "result_url"
   ]
  },
  {
   "cell_type": "code",
   "execution_count": 25,
   "id": "8e1d72f0",
   "metadata": {},
   "outputs": [
    {
     "data": {
      "text/plain": [
       "'{\"message\":\"Bad Request: http://10.96.17.246:16666/query/1644510830.1861038--> Please check your input.../pybox/model/1644510830.1861038.csv\",\"status\":404}\\n'"
      ]
     },
     "execution_count": 25,
     "metadata": {},
     "output_type": "execute_result"
    }
   ],
   "source": [
    "r.text"
   ]
  }
 ],
 "metadata": {
  "kernelspec": {
   "display_name": "Python 3 (ipykernel)",
   "language": "python",
   "name": "python3"
  },
  "language_info": {
   "codemirror_mode": {
    "name": "ipython",
    "version": 3
   },
   "file_extension": ".py",
   "mimetype": "text/x-python",
   "name": "python",
   "nbconvert_exporter": "python",
   "pygments_lexer": "ipython3",
   "version": "3.7.3"
  }
 },
 "nbformat": 4,
 "nbformat_minor": 5
}
