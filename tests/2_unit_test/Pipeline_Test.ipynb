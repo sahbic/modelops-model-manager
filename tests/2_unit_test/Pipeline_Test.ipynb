{
 "cells": [
  {
   "cell_type": "code",
   "execution_count": 19,
   "metadata": {},
   "outputs": [],
   "source": [
    "import argparse\n",
    "import os\n",
    "import os.path\n",
    "import sys\n",
    "import pandas as pd\n",
    "import pickle\n",
    "import json\n",
    "\n",
    "import unittest\n",
    "\n",
    "# Find the first file that matches the pattern.\n",
    "\n",
    "\n",
    "def find_file(suffix):\n",
    "    current_dir = os.path.dirname(os.path.abspath(\"../../development/models/Sklearn_GBT/Sklearn_GBT.pickle\"))\n",
    "    for file in os.listdir(current_dir):\n",
    "        if file.endswith(suffix):\n",
    "            filename = file\n",
    "            return os.path.join(current_dir, filename)\n",
    "\n",
    "    return None\n",
    "\n",
    "\n",
    "def load_var_names(filename):\n",
    "    var_file = find_file(filename)\n",
    "    if var_file is None:\n",
    "        return None\n",
    "    if os.path.isfile(var_file):\n",
    "        with open(var_file) as f:\n",
    "            json_object = json.load(f)\n",
    "\n",
    "        names = []\n",
    "        for row in json_object:\n",
    "            names.append(row[\"name\"])\n",
    "        return names\n",
    "    else:\n",
    "        print('Didnot find file: ', filename)\n",
    "        return None\n",
    "\n",
    "\n",
    "def intersection(lst1, lst2):\n",
    "    lst3 = [value for value in lst1 if value in lst2]\n",
    "    return lst3\n",
    "\n",
    "\n",
    "def load_data_by_input_vars(data):\n",
    "    names = load_var_names('inputVar.json')\n",
    "    if names is None:\n",
    "        return data\n",
    "    else:\n",
    "        newcolumns = intersection(list(data.columns), names)\n",
    "        return data[newcolumns]\n",
    "    \n",
    "def run(model_file, input_file, output_file):\n",
    "\n",
    "    if model_file is None:\n",
    "        print('Not found Python pickle file!')\n",
    "        sys.exit()\n",
    "\n",
    "    if not os.path.isfile(input_file):\n",
    "        print('Not found input file', input_file)\n",
    "        sys.exit()\n",
    "\n",
    "    inputDf = pd.read_csv(input_file).fillna(0)\n",
    "\n",
    "    output_vars = load_var_names('outputVar.json')\n",
    "\n",
    "    in_dataf = load_data_by_input_vars(inputDf)\n",
    "\n",
    "    model = open(model_file, 'rb')\n",
    "    pkl_model = pickle.load(model)\n",
    "    model.close()\n",
    "\n",
    "    outputDf = pd.DataFrame(pkl_model.predict_proba(in_dataf)).round(1)\n",
    "    print(outputDf.head())\n",
    "\n",
    "    if output_vars is None:\n",
    "        outputcols = map(lambda x: 'P_' + str(x), list(pkl_model.classes_))\n",
    "    else:\n",
    "        outputcols = map(lambda x: output_vars[x], list(pkl_model.classes_))\n",
    "    \n",
    "    outputDf.columns = outputcols\n",
    "\n",
    "\n",
    "    # merge with input data\n",
    "    outputDf = pd.merge(inputDf, outputDf, how='inner',\n",
    "                        left_index=True, right_index=True)\n",
    "    print('printing first few lines...')\n",
    "    print(outputDf.head())"
   ]
  },
  {
   "cell_type": "code",
   "execution_count": 20,
   "metadata": {},
   "outputs": [
    {
     "data": {
      "text/plain": [
       "'1.0.2'"
      ]
     },
     "execution_count": 20,
     "metadata": {},
     "output_type": "execute_result"
    }
   ],
   "source": [
    "import sklearn\n",
    "sklearn.__version__"
   ]
  },
  {
   "cell_type": "code",
   "execution_count": 21,
   "metadata": {},
   "outputs": [
    {
     "name": "stdout",
     "output_type": "stream",
     "text": [
      "     0    1\n",
      "0  0.2  0.8\n",
      "printing first few lines...\n",
      "   BAD  LOAN  MORTDUE  VALUE   REASON    JOB   YOJ  DEROG  DELINQ      CLAGE  \\\n",
      "0    1  1100    25860  39025  HomeImp  Other  10.5      0       0  94.366667   \n",
      "\n",
      "   NINQ  CLNO  DEBTINC  P_BAD0  P_BAD1  \n",
      "0     1     9      0.0     0.2     0.8  \n"
     ]
    }
   ],
   "source": [
    "run(\"../../development/models/Sklearn_GBT/Sklearn_GBT.pickle\",\"../../data/test.csv\",\"result.csv\")"
   ]
  },
  {
   "cell_type": "code",
   "execution_count": null,
   "metadata": {},
   "outputs": [],
   "source": []
  }
 ],
 "metadata": {
  "interpreter": {
   "hash": "9c30a7fd36a93631748631b52302435d787e406d088c98a427e8ce56c4d14db2"
  },
  "kernelspec": {
   "display_name": "Python 3",
   "language": "python",
   "name": "python3"
  },
  "language_info": {
   "codemirror_mode": {
    "name": "ipython",
    "version": 3
   },
   "file_extension": ".py",
   "mimetype": "text/x-python",
   "name": "python",
   "nbconvert_exporter": "python",
   "pygments_lexer": "ipython3",
   "version": "3.7.9"
  }
 },
 "nbformat": 4,
 "nbformat_minor": 4
}
