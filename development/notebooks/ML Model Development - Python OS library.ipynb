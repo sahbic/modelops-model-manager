{
 "cells": [
  {
   "cell_type": "markdown",
   "metadata": {},
   "source": [
    "# ML Model Development - Python OS library"
   ]
  },
  {
   "cell_type": "markdown",
   "metadata": {},
   "source": [
    "We start by loading the environment parameters from the configuration file"
   ]
  },
  {
   "cell_type": "code",
   "execution_count": 2,
   "metadata": {},
   "outputs": [
    {
     "name": "stdin",
     "output_type": "stream",
     "text": [
      " ········\n"
     ]
    }
   ],
   "source": [
    "import yaml\n",
    "import getpass\n",
    "import os\n",
    "\n",
    "# Load the yaml file\n",
    "os.chdir(\"/home/jovyan/work/development\")\n",
    "stream = open('viya_config.yml', 'r')\n",
    "settings = yaml.load(stream, yaml.SafeLoader)\n",
    "\n",
    "# connection parameters\n",
    "hostname = settings['hostname']\n",
    "port = settings['port']\n",
    "username = settings['username']\n",
    "password = getpass.getpass()"
   ]
  },
  {
   "cell_type": "markdown",
   "metadata": {},
   "source": [
    "## Connect to SAS Viya\n",
    "\n",
    "To get started connect to your environment\n",
    "\n",
    "> **Note:**  We use swat - SAS Scripting Wrapper for Analytics Transfer - available via *pip install swat*"
   ]
  },
  {
   "cell_type": "code",
   "execution_count": 3,
   "metadata": {},
   "outputs": [],
   "source": [
    "import swat\n",
    "\n",
    "# Connect to CAS server\n",
    "s = swat.CAS(hostname, port, username, password)"
   ]
  },
  {
   "cell_type": "markdown",
   "metadata": {},
   "source": [
    "## Access Data - CAS"
   ]
  },
  {
   "cell_type": "code",
   "execution_count": 4,
   "metadata": {},
   "outputs": [
    {
     "name": "stdout",
     "output_type": "stream",
     "text": [
      "NOTE: 'Public' is now the active caslib.\n",
      "NOTE: Cloud Analytic Services made the file HMEQ_ID.sashdat available as table HMEQ_ID in caslib Public.\n"
     ]
    }
   ],
   "source": [
    "table_name = 'hmeq_id'\n",
    "\n",
    "# Define default caslib\n",
    "s.sessionprop.setsessopt(caslib='Public')\n",
    "\n",
    "# load table in memory\n",
    "s.table.loadTable(path=str(table_name).upper()+\".sashdat\", casout={\"name\":table_name, \"replace\":True})\n",
    "\n",
    "# CASTable view\n",
    "castbl = s.CASTable(table_name)"
   ]
  },
  {
   "cell_type": "code",
   "execution_count": 6,
   "metadata": {},
   "outputs": [
    {
     "data": {
      "text/plain": [
       "swat.cas.table.CASTable"
      ]
     },
     "execution_count": 6,
     "metadata": {},
     "output_type": "execute_result"
    }
   ],
   "source": [
    "type(castbl)"
   ]
  },
  {
   "cell_type": "code",
   "execution_count": 5,
   "metadata": {},
   "outputs": [
    {
     "data": {
      "text/html": [
       "<div>\n",
       "<style scoped>\n",
       "    .dataframe tbody tr th:only-of-type {\n",
       "        vertical-align: middle;\n",
       "    }\n",
       "\n",
       "    .dataframe tbody tr th {\n",
       "        vertical-align: top;\n",
       "    }\n",
       "\n",
       "    .dataframe thead th {\n",
       "        text-align: right;\n",
       "    }\n",
       "</style>\n",
       "<table border=\"1\" class=\"dataframe\"><caption>Selected Rows from Table HMEQ_ID</caption>\n",
       "  <thead>\n",
       "    <tr style=\"text-align: right;\">\n",
       "      <th title=\"\"></th>\n",
       "      <th title=\"Unique_ID\">Unique_ID</th>\n",
       "      <th title=\"BAD\">BAD</th>\n",
       "      <th title=\"LOAN\">LOAN</th>\n",
       "      <th title=\"MORTDUE\">MORTDUE</th>\n",
       "      <th title=\"VALUE\">VALUE</th>\n",
       "      <th title=\"REASON\">REASON</th>\n",
       "      <th title=\"JOB\">JOB</th>\n",
       "      <th title=\"YOJ\">YOJ</th>\n",
       "      <th title=\"DEROG\">DEROG</th>\n",
       "      <th title=\"DELINQ\">DELINQ</th>\n",
       "      <th title=\"CLAGE\">CLAGE</th>\n",
       "      <th title=\"NINQ\">NINQ</th>\n",
       "      <th title=\"CLNO\">CLNO</th>\n",
       "      <th title=\"DEBTINC\">DEBTINC</th>\n",
       "      <th title=\"_PARTIND_\">_PARTIND_</th>\n",
       "    </tr>\n",
       "  </thead>\n",
       "  <tbody>\n",
       "    <tr>\n",
       "      <td>0</td>\n",
       "      <td>101.0</td>\n",
       "      <td>1.0</td>\n",
       "      <td>1100.0</td>\n",
       "      <td>25860.0</td>\n",
       "      <td>39025.0</td>\n",
       "      <td>HomeImp</td>\n",
       "      <td>Other</td>\n",
       "      <td>10.5</td>\n",
       "      <td>0.0</td>\n",
       "      <td>0.0</td>\n",
       "      <td>94.366667</td>\n",
       "      <td>1.0</td>\n",
       "      <td>9.0</td>\n",
       "      <td>NaN</td>\n",
       "      <td>0.0</td>\n",
       "    </tr>\n",
       "    <tr>\n",
       "      <td>1</td>\n",
       "      <td>201.0</td>\n",
       "      <td>1.0</td>\n",
       "      <td>1300.0</td>\n",
       "      <td>70053.0</td>\n",
       "      <td>68400.0</td>\n",
       "      <td>HomeImp</td>\n",
       "      <td>Other</td>\n",
       "      <td>7.0</td>\n",
       "      <td>0.0</td>\n",
       "      <td>2.0</td>\n",
       "      <td>121.833333</td>\n",
       "      <td>0.0</td>\n",
       "      <td>14.0</td>\n",
       "      <td>NaN</td>\n",
       "      <td>1.0</td>\n",
       "    </tr>\n",
       "    <tr>\n",
       "      <td>2</td>\n",
       "      <td>301.0</td>\n",
       "      <td>1.0</td>\n",
       "      <td>1500.0</td>\n",
       "      <td>13500.0</td>\n",
       "      <td>16700.0</td>\n",
       "      <td>HomeImp</td>\n",
       "      <td>Other</td>\n",
       "      <td>4.0</td>\n",
       "      <td>0.0</td>\n",
       "      <td>0.0</td>\n",
       "      <td>149.466667</td>\n",
       "      <td>1.0</td>\n",
       "      <td>10.0</td>\n",
       "      <td>NaN</td>\n",
       "      <td>1.0</td>\n",
       "    </tr>\n",
       "    <tr>\n",
       "      <td>3</td>\n",
       "      <td>401.0</td>\n",
       "      <td>1.0</td>\n",
       "      <td>1500.0</td>\n",
       "      <td>NaN</td>\n",
       "      <td>NaN</td>\n",
       "      <td></td>\n",
       "      <td></td>\n",
       "      <td>NaN</td>\n",
       "      <td>NaN</td>\n",
       "      <td>NaN</td>\n",
       "      <td>NaN</td>\n",
       "      <td>NaN</td>\n",
       "      <td>NaN</td>\n",
       "      <td>NaN</td>\n",
       "      <td>1.0</td>\n",
       "    </tr>\n",
       "    <tr>\n",
       "      <td>4</td>\n",
       "      <td>501.0</td>\n",
       "      <td>0.0</td>\n",
       "      <td>1700.0</td>\n",
       "      <td>97800.0</td>\n",
       "      <td>112000.0</td>\n",
       "      <td>HomeImp</td>\n",
       "      <td>Office</td>\n",
       "      <td>3.0</td>\n",
       "      <td>0.0</td>\n",
       "      <td>0.0</td>\n",
       "      <td>93.333333</td>\n",
       "      <td>0.0</td>\n",
       "      <td>14.0</td>\n",
       "      <td>NaN</td>\n",
       "      <td>0.0</td>\n",
       "    </tr>\n",
       "  </tbody>\n",
       "</table>\n",
       "</div>"
      ],
      "text/plain": [
       "Selected Rows from Table HMEQ_ID\n",
       "\n",
       "   Unique_ID  BAD    LOAN  MORTDUE     VALUE   REASON     JOB   YOJ  DEROG  DELINQ       CLAGE  NINQ  CLNO  DEBTINC  _PARTIND_\n",
       "0      101.0  1.0  1100.0  25860.0   39025.0  HomeImp   Other  10.5    0.0     0.0   94.366667   1.0   9.0      NaN        0.0\n",
       "1      201.0  1.0  1300.0  70053.0   68400.0  HomeImp   Other   7.0    0.0     2.0  121.833333   0.0  14.0      NaN        1.0\n",
       "2      301.0  1.0  1500.0  13500.0   16700.0  HomeImp   Other   4.0    0.0     0.0  149.466667   1.0  10.0      NaN        1.0\n",
       "3      401.0  1.0  1500.0      NaN       NaN                    NaN    NaN     NaN         NaN   NaN   NaN      NaN        1.0\n",
       "4      501.0  0.0  1700.0  97800.0  112000.0  HomeImp  Office   3.0    0.0     0.0   93.333333   0.0  14.0      NaN        0.0"
      ]
     },
     "execution_count": 5,
     "metadata": {},
     "output_type": "execute_result"
    }
   ],
   "source": [
    "castbl.head()"
   ]
  },
  {
   "cell_type": "markdown",
   "metadata": {},
   "source": [
    "# Local data analysis"
   ]
  },
  {
   "cell_type": "code",
   "execution_count": 8,
   "metadata": {},
   "outputs": [],
   "source": [
    "import pandas as pd\n",
    "import numpy as np\n",
    "\n",
    "from sklearn.ensemble import GradientBoostingClassifier\n",
    "from sklearn.metrics  import confusion_matrix, accuracy_score\n",
    "from sklearn.pipeline import Pipeline, FeatureUnion\n",
    "from sklearn.preprocessing import LabelEncoder, OneHotEncoder, StandardScaler\n",
    "from sklearn.compose import ColumnTransformer\n",
    "from sklearn.impute import SimpleImputer\n",
    "\n",
    "import matplotlib.pyplot as plt\n",
    "import seaborn as sns\n",
    "\n",
    "%matplotlib inline"
   ]
  },
  {
   "cell_type": "markdown",
   "metadata": {},
   "source": [
    "## Convert the table to a local Dataframe"
   ]
  },
  {
   "cell_type": "code",
   "execution_count": 9,
   "metadata": {},
   "outputs": [],
   "source": [
    "# Bring data locally\n",
    "df = castbl.to_frame()"
   ]
  },
  {
   "cell_type": "code",
   "execution_count": 10,
   "metadata": {},
   "outputs": [
    {
     "data": {
      "text/plain": [
       "swat.dataframe.SASDataFrame"
      ]
     },
     "execution_count": 10,
     "metadata": {},
     "output_type": "execute_result"
    }
   ],
   "source": [
    "type(df)"
   ]
  },
  {
   "cell_type": "markdown",
   "metadata": {},
   "source": [
    "`SASDataFrame` is a subclass of `pandas.DataFrame`. Therefore, anything you can do with a `pandas.DataFrame` will also work with `SASDataFrame`. The only difference is that `SASDataFrame` objects contain extra metadata familiar to SAS users."
   ]
  },
  {
   "cell_type": "markdown",
   "metadata": {},
   "source": [
    "## Data Exploration and Preparation - Local"
   ]
  },
  {
   "cell_type": "code",
   "execution_count": 11,
   "metadata": {},
   "outputs": [
    {
     "data": {
      "image/png": "[encoded data removed]",
      "text/plain": [
       "<Figure size 1080x720 with 16 Axes>"
      ]
     },
     "metadata": {
      "needs_background": "light"
     },
     "output_type": "display_data"
    }
   ],
   "source": [
    "hists = df.hist(figsize = (15, 10))"
   ]
  },
  {
   "cell_type": "markdown",
   "metadata": {},
   "source": [
    "### set variable shortcuts"
   ]
  },
  {
   "cell_type": "code",
   "execution_count": 18,
   "metadata": {},
   "outputs": [],
   "source": [
    "# Define target variable\n",
    "target = 'BAD'\n",
    "\n",
    "# get categorical/numerical variables\n",
    "input_vars = df.drop([target,'Unique_ID','_PARTIND_'],axis=1).columns.values\n",
    "kinds = np.array([dt.kind for dt in df.drop([target,'Unique_ID','_PARTIND_'],axis=1).dtypes])\n",
    "\n",
    "# Variable lists\n",
    "categorical_vars = list(input_vars[kinds == 'O'])\n",
    "numerical_vars = list(input_vars[kinds != 'O'])\n",
    "all_vars = categorical_vars + numerical_vars + [target]"
   ]
  },
  {
   "cell_type": "markdown",
   "metadata": {},
   "source": [
    "### Prepare data for model"
   ]
  },
  {
   "cell_type": "code",
   "execution_count": 21,
   "metadata": {},
   "outputs": [],
   "source": [
    "# Split into training and validation / target and inputs\n",
    "X_train = df[df['_PARTIND_'] == 1].drop([target,'Unique_ID','_PARTIND_'], axis = 1)\n",
    "X_valid = df[df['_PARTIND_'] == 0].drop([target,'Unique_ID','_PARTIND_'], axis = 1)\n",
    "y_train = df[df['_PARTIND_'] == 1][target]\n",
    "y_valid = df[df['_PARTIND_'] == 0][target]"
   ]
  },
  {
   "cell_type": "markdown",
   "metadata": {},
   "source": [
    "## Build model - Scikit-learn"
   ]
  },
  {
   "cell_type": "code",
   "execution_count": 22,
   "metadata": {},
   "outputs": [],
   "source": [
    "# Define data pipelines\n",
    "numeric_transformer = Pipeline(steps=[\n",
    "    ('imputer', SimpleImputer(strategy='median'))])\n",
    "\n",
    "categorical_transformer = Pipeline(steps=[\n",
    "     ('imputer', SimpleImputer(strategy='most_frequent')),\n",
    "     ('onehot', OneHotEncoder(handle_unknown='ignore'))])\n",
    "\n",
    "preprocessor = ColumnTransformer(transformers=[\n",
    "    ('num', numeric_transformer, numerical_vars),\n",
    "    ('cat', categorical_transformer, categorical_vars)])\n",
    "\n",
    "ml_pipe = Pipeline(steps=[\n",
    "('preprocessor', preprocessor),\n",
    "('model', GradientBoostingClassifier(random_state=3))])\n",
    "\n",
    "fit = ml_pipe.fit(X_train, y_train)"
   ]
  },
  {
   "cell_type": "markdown",
   "metadata": {},
   "source": [
    "### Assess model"
   ]
  },
  {
   "cell_type": "code",
   "execution_count": 23,
   "metadata": {},
   "outputs": [
    {
     "name": "stdout",
     "output_type": "stream",
     "text": [
      "NOTE: Cloud Analytic Services made the uploaded file available as table GBT_SKLEARN_PREDICTIONS in caslib Public.\n",
      "NOTE: The table GBT_SKLEARN_PREDICTIONS has been created in caslib Public from binary data uploaded to Cloud Analytic Services.\n"
     ]
    }
   ],
   "source": [
    "# put results in pandas dataframe\n",
    "results_df = pd.DataFrame(dict(actual = y_valid, pred = ml_pipe.predict_proba(X_valid)[:,1]))\n",
    "\n",
    "# Predict and assess model\n",
    "gb_y_score           = ml_pipe.predict(X_valid)\n",
    "gb_misclassification = 1 - accuracy_score(y_valid, gb_y_score)\n",
    "gb_confusion_matrix  = confusion_matrix(y_valid, gb_y_score)\n",
    "\n",
    "# Add Python model results to CAS to assess\n",
    "pytbl = s.upload_frame(results_df, casout=dict(name='GBT_sklearn_predictions', replace=True))"
   ]
  },
  {
   "cell_type": "code",
   "execution_count": 24,
   "metadata": {},
   "outputs": [
    {
     "data": {
      "text/plain": [
       "0.10067114093959728"
      ]
     },
     "execution_count": 24,
     "metadata": {},
     "output_type": "execute_result"
    }
   ],
   "source": [
    "gb_misclassification"
   ]
  },
  {
   "cell_type": "markdown",
   "metadata": {},
   "source": [
    "# Register Model"
   ]
  },
  {
   "cell_type": "code",
   "execution_count": 25,
   "metadata": {},
   "outputs": [],
   "source": [
    "# SAS Model Manager Project Name\n",
    "PROJECT_NAME = \"ModelOps SCH\""
   ]
  },
  {
   "cell_type": "markdown",
   "metadata": {},
   "source": [
    "## Add model to repository - sklearn"
   ]
  },
  {
   "cell_type": "code",
   "execution_count": 26,
   "metadata": {},
   "outputs": [],
   "source": [
    "import sasctl.pzmm as pzmm\n",
    "from utils.mm_utils import *\n",
    "\n",
    "# model\n",
    "MODEL = ml_pipe\n",
    "MODEL_PREFIX = 'Sklearn_GBT'"
   ]
  },
  {
   "cell_type": "markdown",
   "metadata": {},
   "source": [
    "### Initialize folder & save pickle"
   ]
  },
  {
   "cell_type": "code",
   "execution_count": 27,
   "metadata": {},
   "outputs": [
    {
     "name": "stdout",
     "output_type": "stream",
     "text": [
      "Model Sklearn_GBT was successfully pickled and saved to /home/jovyan/work/development/models/Sklearn_GBT/Sklearn_GBT.pickle.\n"
     ]
    }
   ],
   "source": [
    "# create model folder\n",
    "MODEL_FOLDER = init_folder(MODEL_PREFIX)\n",
    "pzmm.PickleModel.pickleTrainedModel(None, MODEL, MODEL_PREFIX, MODEL_FOLDER)"
   ]
  },
  {
   "cell_type": "markdown",
   "metadata": {},
   "source": [
    "### Write requirement.txt"
   ]
  },
  {
   "cell_type": "code",
   "execution_count": 28,
   "metadata": {},
   "outputs": [],
   "source": [
    "# write_requirements(MODEL_FOLDER, 'requirements.txt')"
   ]
  },
  {
   "cell_type": "code",
   "execution_count": 29,
   "metadata": {},
   "outputs": [
    {
     "name": "stdout",
     "output_type": "stream",
     "text": [
      "Overwriting /home/jovyan/work/development/models/Sklearn_GBT/requirements.txt\n"
     ]
    }
   ],
   "source": [
    "%%writefile $MODEL_FOLDER/requirements.txt\n",
    "scikit-learn==1.0.2\n",
    "pandas==1.4.0"
   ]
  },
  {
   "cell_type": "markdown",
   "metadata": {},
   "source": [
    "### Write inference script"
   ]
  },
  {
   "cell_type": "code",
   "execution_count": 30,
   "metadata": {},
   "outputs": [
    {
     "name": "stdout",
     "output_type": "stream",
     "text": [
      "['LOAN', 'MORTDUE', 'VALUE', 'REASON', 'JOB', 'YOJ', 'DEROG', 'DELINQ', 'CLAGE'\n",
      ", 'NINQ', 'CLNO', 'DEBTINC']\n"
     ]
    }
   ],
   "source": [
    "# threshold for prediction\n",
    "threshold = 0.5\n",
    "# Get list of variables\n",
    "vars_string = str(input_vars).replace(\" \", \", \")\n",
    "print(vars_string)\n",
    "remove_characters = [\"'\", \"[\", \"]\"]\n",
    "for character in remove_characters:\n",
    "    vars_string = vars_string.replace(character, \"\")"
   ]
  },
  {
   "cell_type": "code",
   "execution_count": 31,
   "metadata": {},
   "outputs": [],
   "source": [
    "scoringstring = '''\n",
    "import pickle\n",
    "import pandas as pd\n",
    "                            \n",
    "global _thisModelFit\n",
    "        \n",
    "with open('{0}', 'rb') as _pFile:\n",
    "    _thisModelFit = pickle.load(_pFile)\n",
    "\n",
    "def scoreSklearn_GBT({1}):\n",
    "    \"Output: EM_EVENTPROBABILITY, EM_CLASSIFICATION\"\n",
    "    \n",
    "    try:\n",
    "        _thisModelFit\n",
    "    except NameError:\n",
    "\n",
    "        with open('{0}', 'rb') as _pFile:\n",
    "            _thisModelFit = pickle.load(_pFile)\n",
    "    \n",
    "    inputArray = pd.DataFrame([[{1}]], columns = {2})\n",
    "    \n",
    "    prediction = _thisModelFit.predict_proba(inputArray)\n",
    "\n",
    "    EM_EVENTPROBABILITY = float(prediction[:,1])\n",
    "\n",
    "    if (EM_EVENTPROBABILITY >= {3}):\n",
    "        EM_CLASSIFICATION = '1'\n",
    "    else:\n",
    "        EM_CLASSIFICATION = '0'\n",
    "\n",
    "    return(EM_EVENTPROBABILITY, EM_CLASSIFICATION)\n",
    "'''.format(MODEL_PREFIX + '.pickle',vars_string, str(input_vars).replace(\" \", \", \"),str(threshold))"
   ]
  },
  {
   "cell_type": "code",
   "execution_count": 32,
   "metadata": {},
   "outputs": [],
   "source": [
    "text_file = open(MODEL_FOLDER + '/' + MODEL_PREFIX + 'Score.py', \"w\")\n",
    "n = text_file.write(scoringstring)\n",
    "text_file.close()"
   ]
  },
  {
   "cell_type": "markdown",
   "metadata": {},
   "source": [
    "### Write Metadata files"
   ]
  },
  {
   "cell_type": "code",
   "execution_count": 33,
   "metadata": {},
   "outputs": [],
   "source": [
    "# init JSONFiles object for metadata files\n",
    "JSONFiles = pzmm.JSONFiles()"
   ]
  },
  {
   "cell_type": "markdown",
   "metadata": {},
   "source": [
    "#### input variables"
   ]
  },
  {
   "cell_type": "code",
   "execution_count": 34,
   "metadata": {
    "tags": []
   },
   "outputs": [
    {
     "name": "stderr",
     "output_type": "stream",
     "text": [
      "/opt/conda/lib/python3.9/site-packages/sasctl/pzmm/writeJSONFiles.py:81: FutureWarning: The frame.append method is deprecated and will be removed from pandas in a future version. Use pandas.concat instead.\n",
      "  outputJSON = outputJSON.append([outputRow], ignore_index=True)\n",
      "/opt/conda/lib/python3.9/site-packages/sasctl/pzmm/writeJSONFiles.py:81: FutureWarning: The frame.append method is deprecated and will be removed from pandas in a future version. Use pandas.concat instead.\n",
      "  outputJSON = outputJSON.append([outputRow], ignore_index=True)\n",
      "/opt/conda/lib/python3.9/site-packages/sasctl/pzmm/writeJSONFiles.py:81: FutureWarning: The frame.append method is deprecated and will be removed from pandas in a future version. Use pandas.concat instead.\n",
      "  outputJSON = outputJSON.append([outputRow], ignore_index=True)\n",
      "/opt/conda/lib/python3.9/site-packages/sasctl/pzmm/writeJSONFiles.py:81: FutureWarning: The frame.append method is deprecated and will be removed from pandas in a future version. Use pandas.concat instead.\n",
      "  outputJSON = outputJSON.append([outputRow], ignore_index=True)\n",
      "/opt/conda/lib/python3.9/site-packages/sasctl/pzmm/writeJSONFiles.py:81: FutureWarning: The frame.append method is deprecated and will be removed from pandas in a future version. Use pandas.concat instead.\n",
      "  outputJSON = outputJSON.append([outputRow], ignore_index=True)\n",
      "/opt/conda/lib/python3.9/site-packages/sasctl/pzmm/writeJSONFiles.py:81: FutureWarning: The frame.append method is deprecated and will be removed from pandas in a future version. Use pandas.concat instead.\n",
      "  outputJSON = outputJSON.append([outputRow], ignore_index=True)\n",
      "/opt/conda/lib/python3.9/site-packages/sasctl/pzmm/writeJSONFiles.py:81: FutureWarning: The frame.append method is deprecated and will be removed from pandas in a future version. Use pandas.concat instead.\n",
      "  outputJSON = outputJSON.append([outputRow], ignore_index=True)\n",
      "/opt/conda/lib/python3.9/site-packages/sasctl/pzmm/writeJSONFiles.py:81: FutureWarning: The frame.append method is deprecated and will be removed from pandas in a future version. Use pandas.concat instead.\n",
      "  outputJSON = outputJSON.append([outputRow], ignore_index=True)\n"
     ]
    },
    {
     "name": "stdout",
     "output_type": "stream",
     "text": [
      "inputVar.json was successfully written and saved to /home/jovyan/work/development/models/Sklearn_GBT/inputVar.json\n"
     ]
    },
    {
     "name": "stderr",
     "output_type": "stream",
     "text": [
      "/opt/conda/lib/python3.9/site-packages/sasctl/pzmm/writeJSONFiles.py:81: FutureWarning: The frame.append method is deprecated and will be removed from pandas in a future version. Use pandas.concat instead.\n",
      "  outputJSON = outputJSON.append([outputRow], ignore_index=True)\n",
      "/opt/conda/lib/python3.9/site-packages/sasctl/pzmm/writeJSONFiles.py:81: FutureWarning: The frame.append method is deprecated and will be removed from pandas in a future version. Use pandas.concat instead.\n",
      "  outputJSON = outputJSON.append([outputRow], ignore_index=True)\n",
      "/opt/conda/lib/python3.9/site-packages/sasctl/pzmm/writeJSONFiles.py:81: FutureWarning: The frame.append method is deprecated and will be removed from pandas in a future version. Use pandas.concat instead.\n",
      "  outputJSON = outputJSON.append([outputRow], ignore_index=True)\n",
      "/opt/conda/lib/python3.9/site-packages/sasctl/pzmm/writeJSONFiles.py:81: FutureWarning: The frame.append method is deprecated and will be removed from pandas in a future version. Use pandas.concat instead.\n",
      "  outputJSON = outputJSON.append([outputRow], ignore_index=True)\n"
     ]
    }
   ],
   "source": [
    "#write input.json\n",
    "JSONFiles.writeVarJSON(df[input_vars], isInput=True, jPath=MODEL_FOLDER)"
   ]
  },
  {
   "cell_type": "markdown",
   "metadata": {},
   "source": [
    "#### output variables"
   ]
  },
  {
   "cell_type": "code",
   "execution_count": 35,
   "metadata": {
    "tags": []
   },
   "outputs": [
    {
     "name": "stdout",
     "output_type": "stream",
     "text": [
      "outputVar.json was successfully written and saved to /home/jovyan/work/development/models/Sklearn_GBT/outputVar.json\n"
     ]
    },
    {
     "name": "stderr",
     "output_type": "stream",
     "text": [
      "/opt/conda/lib/python3.9/site-packages/sasctl/pzmm/writeJSONFiles.py:81: FutureWarning: The frame.append method is deprecated and will be removed from pandas in a future version. Use pandas.concat instead.\n",
      "  outputJSON = outputJSON.append([outputRow], ignore_index=True)\n",
      "/opt/conda/lib/python3.9/site-packages/sasctl/pzmm/writeJSONFiles.py:81: FutureWarning: The frame.append method is deprecated and will be removed from pandas in a future version. Use pandas.concat instead.\n",
      "  outputJSON = outputJSON.append([outputRow], ignore_index=True)\n",
      "/opt/conda/lib/python3.9/site-packages/sasctl/pzmm/writeJSONFiles.py:81: FutureWarning: The frame.append method is deprecated and will be removed from pandas in a future version. Use pandas.concat instead.\n",
      "  outputJSON = outputJSON.append([outputRow], ignore_index=True)\n",
      "/opt/conda/lib/python3.9/site-packages/sasctl/pzmm/writeJSONFiles.py:81: FutureWarning: The frame.append method is deprecated and will be removed from pandas in a future version. Use pandas.concat instead.\n",
      "  outputJSON = outputJSON.append([outputRow], ignore_index=True)\n"
     ]
    }
   ],
   "source": [
    "NAMES=['P_BAD0', 'P_BAD1', 'EM_CLASSIFICATION', 'EM_EVENTPROBABILITY']\n",
    "LABELS=['0', '1']\n",
    "EVENTPROB = 0.5\n",
    "\n",
    "outputVar = get_output_variables(NAMES, LABELS, EVENTPROB)\n",
    "#write output.json\n",
    "JSONFiles.writeVarJSON(outputVar, isInput=False, jPath=MODEL_FOLDER)"
   ]
  },
  {
   "cell_type": "markdown",
   "metadata": {},
   "source": [
    "#### model properties"
   ]
  },
  {
   "cell_type": "code",
   "execution_count": 36,
   "metadata": {},
   "outputs": [],
   "source": [
    "TARGET_VALUE = \"1\""
   ]
  },
  {
   "cell_type": "code",
   "execution_count": 37,
   "metadata": {},
   "outputs": [
    {
     "name": "stdout",
     "output_type": "stream",
     "text": [
      "ModelProperties.json was successfully written and saved to /home/jovyan/work/development/models/Sklearn_GBT/ModelProperties.json\n"
     ]
    }
   ],
   "source": [
    "JSONFiles.writeModelPropertiesJSON(modelName=MODEL_PREFIX,\n",
    "                                   modelDesc='Sklearn classifier',\n",
    "                                   targetVariable=target,\n",
    "                                   modelType='Pipeline Gradient Boosting',\n",
    "                                   modelPredictors=input_vars,\n",
    "                                   targetEvent=TARGET_VALUE,\n",
    "                                   numTargetCategories=2,\n",
    "                                   eventProbVar='EM_EVENTPROBABILITY',\n",
    "                                   jPath=MODEL_FOLDER,\n",
    "                                   modeler=username)"
   ]
  },
  {
   "cell_type": "code",
   "execution_count": 38,
   "metadata": {},
   "outputs": [
    {
     "name": "stdout",
     "output_type": "stream",
     "text": [
      "fileMetaData.json was successfully written and saved to /home/jovyan/work/development/models/Sklearn_GBT/fileMetaData.json\n"
     ]
    }
   ],
   "source": [
    "# fileMetatdata file\n",
    "JSONFiles.writeFileMetadataJSON(MODEL_PREFIX, jPath=MODEL_FOLDER)"
   ]
  },
  {
   "cell_type": "markdown",
   "metadata": {},
   "source": [
    "#### evaluation data"
   ]
  },
  {
   "cell_type": "code",
   "execution_count": 39,
   "metadata": {},
   "outputs": [
    {
     "name": "stdout",
     "output_type": "stream",
     "text": [
      "dmcas_fitstat.json was successfully written and saved to /home/jovyan/work/development/models/Sklearn_GBT/dmcas_fitstat.json\n",
      "NOTE: Added action set 'percentile'.\n",
      "NOTE: Cloud Analytic Services made the uploaded file available as table SCOREDVALUES in caslib Public.\n",
      "NOTE: The table SCOREDVALUES has been created in caslib Public from binary data uploaded to Cloud Analytic Services.\n",
      "NOTE: Cloud Analytic Services made the uploaded file available as table SCOREDVALUES in caslib Public.\n",
      "NOTE: The table SCOREDVALUES has been created in caslib Public from binary data uploaded to Cloud Analytic Services.\n",
      "dmcas_roc.json was successfully written and saved to /home/jovyan/work/development/models/Sklearn_GBT/dmcas_roc.json\n",
      "dmcas_lift.json was successfully written and saved to /home/jovyan/work/development/models/Sklearn_GBT/dmcas_lift.json\n"
     ]
    }
   ],
   "source": [
    "# Evaluate model (train, validation)\n",
    "train_fit_df = pd.DataFrame(dict(actual = y_train, pred = ml_pipe.predict_proba(X_train)[:,1]))\n",
    "results_df = pd.DataFrame(dict(actual = y_valid, pred = ml_pipe.predict_proba(X_valid)[:,1]))\n",
    "\n",
    "# fit statistics\n",
    "JSONFiles.calculateFitStat(\n",
    "    validateData=[np.array(y_valid.astype(int)), np.array(results_df['pred'])],\n",
    "    trainData=[np.array(y_train.astype(int)), np.array(train_fit_df[\"pred\"])],\n",
    "    testData=None,\n",
    "    jPath=MODEL_FOLDER)\n",
    "\n",
    "# ROCLiftStat\n",
    "JSONFiles.generateROCLiftStat(\n",
    "    targetName=target,\n",
    "    targetValue=TARGET_VALUE,\n",
    "    swatConn=s,\n",
    "    validateData=pd.DataFrame({'col1': y_valid.astype(int),'col2': results_df['pred']}),\n",
    "    trainData=pd.DataFrame({'col1': y_train.astype(int), 'col2': train_fit_df[\"pred\"]}),\n",
    "    testData=None,\n",
    "    jPath=MODEL_FOLDER)"
   ]
  },
  {
   "cell_type": "markdown",
   "metadata": {},
   "source": [
    "#### compress model folder"
   ]
  },
  {
   "cell_type": "code",
   "execution_count": 40,
   "metadata": {},
   "outputs": [
    {
     "data": {
      "text/plain": [
       "<_io.BytesIO at 0x7f0ee30434f0>"
      ]
     },
     "execution_count": 40,
     "metadata": {},
     "output_type": "execute_result"
    }
   ],
   "source": [
    "#Zip folder\n",
    "pzmm.ZipModel.zipFiles(MODEL_FOLDER,MODEL_PREFIX)"
   ]
  },
  {
   "cell_type": "code",
   "execution_count": null,
   "metadata": {},
   "outputs": [],
   "source": []
  },
  {
   "cell_type": "code",
   "execution_count": null,
   "metadata": {},
   "outputs": [],
   "source": []
  },
  {
   "cell_type": "markdown",
   "metadata": {},
   "source": [
    "### Import Model"
   ]
  },
  {
   "cell_type": "code",
   "execution_count": 59,
   "metadata": {},
   "outputs": [
    {
     "name": "stderr",
     "output_type": "stream",
     "text": [
      "/opt/conda/lib/python3.9/site-packages/urllib3/connectionpool.py:1043: InsecureRequestWarning: Unverified HTTPS request is being made to host '10.96.1.158'. Adding certificate verification is strongly advised. See: https://urllib3.readthedocs.io/en/1.26.x/advanced-usage.html#ssl-warnings\n",
      "  warnings.warn(\n"
     ]
    }
   ],
   "source": [
    "zPath = MODEL_FOLDER + \"/\" + MODEL_PREFIX + '.zip'\n",
    "\n",
    "with Session(\"https://\"+hostname, username, password, verify_ssl=False):\n",
    "    zipfile = open(zPath, 'rb')\n",
    "    model_repository.import_model_from_zip(MODEL_PREFIX,\n",
    "                                           PROJECT_NAME,\n",
    "                                           file=zipfile,\n",
    "                                           version='latest')\n",
    "    zipfile.close()"
   ]
  },
  {
   "cell_type": "code",
   "execution_count": null,
   "metadata": {},
   "outputs": [],
   "source": []
  },
  {
   "cell_type": "markdown",
   "metadata": {},
   "source": [
    " "
   ]
  },
  {
   "cell_type": "code",
   "execution_count": 107,
   "metadata": {},
   "outputs": [
    {
     "data": {
      "text/plain": [
       "['/opt/sas/viya/config/data/modelsvr/resources/38801ef9-cca2-43c6-940a-498379aada53/ml_pipe.pickle']"
      ]
     },
     "execution_count": 107,
     "metadata": {},
     "output_type": "execute_result"
    }
   ],
   "source": [
    "#!mkdir -p /opt/sas/viya/config/data/modelsvr/resources/38801ef9-cca2-43c6-940a-498379aada53\n",
    "joblib.dump(ml_pipe, '/opt/sas/viya/config/data/modelsvr/resources/38801ef9-cca2-43c6-940a-498379aada53/ml_pipe.pickle')"
   ]
  }
 ],
 "metadata": {
  "celltoolbar": "Format de la Cellule Texte Brut",
  "kernelspec": {
   "display_name": "Python 3 (ipykernel)",
   "language": "python",
   "name": "python3"
  },
  "language_info": {
   "codemirror_mode": {
    "name": "ipython",
    "version": 3
   },
   "file_extension": ".py",
   "mimetype": "text/x-python",
   "name": "python",
   "nbconvert_exporter": "python",
   "pygments_lexer": "ipython3",
   "version": "3.9.7"
  }
 },
 "nbformat": 4,
 "nbformat_minor": 4
}
