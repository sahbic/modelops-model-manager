{
 "cells": [
  {
   "cell_type": "markdown",
   "metadata": {},
   "source": [
    "Copyright © 2020, SAS Institute Inc., Cary, NC, USA.  All Rights Reserved. \n",
    "SPDX-License-Identifier: Apache-2.0"
   ]
  },
  {
   "cell_type": "markdown",
   "metadata": {},
   "source": [
    "# Configure a Private Docker Publishing Destination\n",
    "\n",
    "In order to create an Private Docker destination, you must complete the following steps:\n",
    "\n",
    "1. Find a valid domain with Private Docker credentials.\n",
    "2. Create credentials for a specific user or group and define a credential domain.\n",
    "3. Submit an API post to create a Private Docker destination.\n",
    "\n",
    "_Note: An example of deleting a destination is also included._"
   ]
  },
  {
   "cell_type": "markdown",
   "metadata": {},
   "source": [
    "## Establish a Connection and Define URLs"
   ]
  },
  {
   "cell_type": "code",
   "execution_count": 25,
   "metadata": {},
   "outputs": [],
   "source": [
    "import sys\n",
    "sys.path.append('..')\n",
    "import mmAuthorization\n",
    "\n",
    "import requests\n",
    "import json, os, pprint\n",
    "import base64\n",
    "import yaml"
   ]
  },
  {
   "cell_type": "code",
   "execution_count": 26,
   "metadata": {},
   "outputs": [],
   "source": [
    "stream = open('deploy_config.yml', 'r')\n",
    "settings = yaml.load(stream, yaml.SafeLoader)"
   ]
  },
  {
   "cell_type": "code",
   "execution_count": 27,
   "metadata": {},
   "outputs": [
    {
     "name": "stdout",
     "output_type": "stream",
     "text": [
      "http://10.96.17.246\n"
     ]
    }
   ],
   "source": [
    "def list_destinations(destination_url, auth_token): \n",
    "    headers = {\n",
    "        mmAuthorization.AUTHORIZATION_HEADER: mmAuthorization.AUTHORIZATION_TOKEN + auth_token\n",
    "    }\n",
    "\n",
    "    print(\"List the destinations...\")\n",
    "    try:\n",
    "        response = requests.get(destination_url, headers=headers)\n",
    "        jsondata = response.json()\n",
    "        destinations = jsondata['items']\n",
    "        if len(destinations) > 0:\n",
    "            for destination in destinations:            \n",
    "                print(destination[\"id\"])\n",
    "                print(destination[\"name\"])\n",
    "                print(\"===========\")\n",
    "\n",
    "    except:\n",
    "        raise RuntimeError(\"ERROR: Could not get a destination list.\")\n",
    "\n",
    "public_ip = settings['hostname']\n",
    "host_name = settings['hostname']\n",
    "port = \"\"\n",
    "\n",
    "host_url=\"http://\" + host_name + port\n",
    "destination_url = host_url + \"/modelPublish/destinations/\"\n",
    "modelrepo_url = host_url + \"/modelRepository/models/\"\n",
    "publishmodel_url = host_url + \"/modelPublish/models\"\n",
    "domains_url = host_url + \"/credentials/domains\"\n",
    "print(host_url)"
   ]
  },
  {
   "cell_type": "markdown",
   "metadata": {},
   "source": [
    "## Get an Authorization Token and Define Headers"
   ]
  },
  {
   "cell_type": "code",
   "execution_count": 28,
   "metadata": {},
   "outputs": [
    {
     "name": "stdout",
     "output_type": "stream",
     "text": [
      "eyJhbGciOiJSUzI1NiIsImprdSI6Imh0dHBzOi8vbG9jYWxob3N0L1NBU0xvZ29uL3Rva2VuX2tleXMiLCJraWQiOiJsZWdhY3ktdG9rZW4ta2V5IiwidHlwIjoiSldUIn0.eyJqdGkiOiJlOWQwMmNmNDljNTM0YWYwODg1NGJjNDExYWRlMzYwZSIsImV4dF9pZCI6InVpZD1zYXNkZW1vLG91PXVzZXJzLGRjPXZpeWFkZW1vLGRjPWNvbSIsInN1YiI6IjA4NTRkYTIwLWNkZWUtNGRlYS04ZGU0LThhNmEwNzY5ODQwNyIsInNjb3BlIjpbIkRhdGFCdWlsZGVycyIsIkhlYWx0aE1hcHBlck1hbmFnZXIiLCJzenBrQWRtaW5pc3RyYXRvciIsInJpc2tEYXRhQWRtaW4iLCJxYXNEYXRhQWRtaW4iLCJxYXNGUUFBbmFseXN0Iiwicmlza01vZGVsVmFsaWRhdG9yIiwicWFzQVBBQW5hbHlzdCIsIkRlbWFuZFBsYW5uaW5nRm9yZWNhc3RBbmFseXN0IiwiQWRhcHRpdmVMZWFybmluZ1VzZXJzIiwic3pwZlZpZXdlciIsInJvQnVzaW5lc3NTdXBlclVzZXIiLCJIZWFsdGhDb2hvcnRBZG1pbmlzdHJhdG9ycyIsInVhYS5yZXNvdXJjZSIsIm9wZW5pZCIsIkVzcmlVc2VycyIsInVhYS5hZG1pbiIsImNsaWVudHMuYWRtaW4iLCJzY2ltLnJlYWQiLCJTQVNBZG1pbmlzdHJhdG9ycyIsIkhlYWx0aE1hcHBlciIsInN6cGZBbmFseXN0IiwiQ0FTSG9zdEFjY291bnRSZXF1aXJlZCIsIkhlYWx0aE1hcHBlckFkbWluaXN0cmF0b3IiLCJzenBrVmlld2VyIiwiQXBwbGljYXRpb25BZG1pbmlzdHJhdG9ycyIsInJpc2tEYXRhQW5hbHlzdCIsInJvQnVzaW5lc3NVc2VyIiwiU0FTU2NvcmVVc2VycyIsInFhc0luZm9Db25zdW1lciIsInN6cGZBZG1pbmlzdHJhdG9yIiwiY2xpZW50cy5yZWFkIiwicm9CdXNpbmVzc0FkbWluaXN0cmF0b3IiLCJjbGllbnRzLnNlY3JldCIsIlBsYW5uaW5nQWRtaW5pc3RyYXRvcnMiLCJyaXNrTW9kZWxlciIsInJpc2tEYXRhQ29uZmlnVXNlcnMiLCJIZWFsdGhDb2hvcnRBbmFseXN0cyIsInFhc1BRQUFuYWx5c3QiLCJQbGFubmluZ1VzZXJzIiwiY2xpZW50cy53cml0ZSIsInFhc0FwcEFkbWluIiwic2NpbS53cml0ZSIsInN6cGtBbmFseXN0Iiwicm9UZWNobmljYWxBZG1pbmlzdHJhdG9yIl0sImNsaWVudF9pZCI6InNhcy5lYyIsImNpZCI6InNhcy5lYyIsImF6cCI6InNhcy5lYyIsImdyYW50X3R5cGUiOiJwYXNzd29yZCIsInVzZXJfaWQiOiIwODU0ZGEyMC1jZGVlLTRkZWEtOGRlNC04YTZhMDc2OTg0MDciLCJvcmlnaW4iOiJsZGFwIiwidXNlcl9uYW1lIjoic2FzZGVtbyIsImVtYWlsIjoic2FzZGVtb0Bub25lLnNhcy5jb20iLCJhdXRoX3RpbWUiOjE2NDQ0ODgzNzgsInJldl9zaWciOiIxODA1MzIxNCIsImlhdCI6MTY0NDQ4ODM3OCwiZXhwIjoxNjQ0NTI0Mzc4LCJpc3MiOiJodHRwOi8vbG9jYWxob3N0L1NBU0xvZ29uL29hdXRoL3Rva2VuIiwiemlkIjoidWFhIiwiYXVkIjpbInNjaW0iLCJjbGllbnRzIiwic2FzLioiLCJ1YWEiLCJvcGVuaWQiLCJzYXMuZWMiXX0.b0BK0IUnDKspinSSm1nulqbQ4ekiJPWP8L4TA5DlhOjA-VIpUQM4sl_WQF34X81A4dLTa_mkFwgpI9eSRxWfUdSaiL4C894otwnen4v090_c0-mn9If-I-5jF9FCxejmT9LXi_NzlrtyC5o3ISmVI666ROEh8DwCTeyfpvyaDRkb7YqidXnhGrY13M5I6NRoO1GZAYRuted4XgCbtlKZXhrgcyhfinfWpGsb6SqiF0s8R9HpaN2RDUHlpfEWg3NUMN5UvqDCC6pvowHMEn2iYnmEPlr3wPcoUgldU0I2KRT1KmM9XT7e2elvm_MsTWHrCR7sGVID6wO7RfNbnK9Hvg\n"
     ]
    }
   ],
   "source": [
    "mm_auth = mmAuthorization.mmAuthorization(\"myAuth\")\n",
    "\n",
    "admin_userId = settings['username']\n",
    "user_passwd = settings['password']\n",
    "\n",
    "admin_auth_token = mm_auth.get_auth_token(host_url, admin_userId, user_passwd)\n",
    "\n",
    "credential_admin_headers = {\n",
    "    mmAuthorization.AUTHORIZATION_HEADER: mmAuthorization.AUTHORIZATION_TOKEN + admin_auth_token\n",
    "}\n",
    "\n",
    "credential_domain_headers = {\n",
    "    \"If-Match\":\"false\",\n",
    "    \"Content-Type\":\"application/json\",\n",
    "    mmAuthorization.AUTHORIZATION_HEADER: mmAuthorization.AUTHORIZATION_TOKEN + admin_auth_token\n",
    "}\n",
    "\n",
    "credential_user_headers = {\n",
    "    \"If-Match\":\"false\",\n",
    "    \"Content-Type\":\"application/json\",\n",
    "    mmAuthorization.AUTHORIZATION_HEADER: mmAuthorization.AUTHORIZATION_TOKEN + admin_auth_token\n",
    "}\n",
    "\n",
    "destination_harbor_headers = {\n",
    "    \"If-Match\":\"false\",\n",
    "    \"Content-Type\":\"application/vnd.sas.models.publishing.destination.privatedocker+json\",\n",
    "    mmAuthorization.AUTHORIZATION_HEADER: mmAuthorization.AUTHORIZATION_TOKEN + admin_auth_token\n",
    "}\n",
    "\n",
    "print(admin_auth_token)"
   ]
  },
  {
   "cell_type": "markdown",
   "metadata": {},
   "source": [
    "## Create a Domain Credential"
   ]
  },
  {
   "cell_type": "code",
   "execution_count": 29,
   "metadata": {},
   "outputs": [
    {
     "name": "stdout",
     "output_type": "stream",
     "text": [
      "<Response [201]>\n",
      "{'createdBy': 'sasdemo',\n",
      " 'creationTimeStamp': '2022-02-10T10:19:59.932Z',\n",
      " 'description': 'Domain for Private Docker Registry',\n",
      " 'id': 'Docker_Registr_Domain',\n",
      " 'links': [{'href': '/credentials/domains/Docker_Registr_Domain',\n",
      "            'method': 'GET',\n",
      "            'rel': 'self',\n",
      "            'type': 'application/vnd.sas.credential.domain',\n",
      "            'uri': '/credentials/domains/Docker_Registr_Domain'},\n",
      "           {'href': '/credentials/domains/Docker_Registr_Domain',\n",
      "            'method': 'PUT',\n",
      "            'rel': 'update',\n",
      "            'type': 'application/vnd.sas.credential.domain',\n",
      "            'uri': '/credentials/domains/Docker_Registr_Domain'},\n",
      "           {'href': '/credentials/domains/Docker_Registr_Domain',\n",
      "            'method': 'DELETE',\n",
      "            'rel': 'delete',\n",
      "            'type': 'application/vnd.sas.credential.domain',\n",
      "            'uri': '/credentials/domains/Docker_Registr_Domain'},\n",
      "           {'href': '/credentials/domains/Docker_Registr_Domain/credentials',\n",
      "            'itemType': 'application/vnd.sas.credential',\n",
      "            'method': 'GET',\n",
      "            'rel': 'credentials',\n",
      "            'type': 'application/vnd.sas.collection',\n",
      "            'uri': '/credentials/domains/Docker_Registr_Domain/credentials'}],\n",
      " 'modifiedBy': 'sasdemo',\n",
      " 'modifiedTimeStamp': '2022-02-10T10:19:59.932Z',\n",
      " 'type': 'base64',\n",
      " 'version': 1}\n"
     ]
    }
   ],
   "source": [
    "domain_name = settings[\"domainname\"]\n",
    "description = 'Domain for Private Docker Registry'\n",
    "\n",
    "my_domain_url = domains_url + \"/\" + domain_name\n",
    "domain_attrs = {\n",
    "    \"id\":domain_name,\n",
    "    \"type\":\"base64\",\n",
    "    \"description\": description\n",
    "}\n",
    "\n",
    "domain = requests.put(my_domain_url, \n",
    "                       data=json.dumps(domain_attrs), headers=credential_domain_headers)\n",
    "\n",
    "print(domain)\n",
    "pprint.pprint(domain.json())"
   ]
  },
  {
   "cell_type": "markdown",
   "metadata": {},
   "source": [
    "## Create User Credentials"
   ]
  },
  {
   "cell_type": "code",
   "execution_count": 30,
   "metadata": {},
   "outputs": [
    {
     "name": "stdout",
     "output_type": "stream",
     "text": [
      "<Response [201]>\n",
      "{'createdBy': 'sasdemo',\n",
      " 'creationTimeStamp': '2022-02-10T10:20:36.934Z',\n",
      " 'domainId': 'Docker_Registr_Domain',\n",
      " 'domainType': 'base64',\n",
      " 'identityId': 'sasdemo',\n",
      " 'identityType': 'user',\n",
      " 'links': [{'href': '/credentials/domains/Docker_Registr_Domain/users/sasdemo',\n",
      "            'method': 'GET',\n",
      "            'rel': 'self',\n",
      "            'type': 'application/vnd.sas.credential',\n",
      "            'uri': '/credentials/domains/Docker_Registr_Domain/users/sasdemo'},\n",
      "           {'href': '/credentials/domains/Docker_Registr_Domain/users/sasdemo',\n",
      "            'method': 'PUT',\n",
      "            'rel': 'update',\n",
      "            'type': 'application/vnd.sas.credential',\n",
      "            'uri': '/credentials/domains/Docker_Registr_Domain/users/sasdemo'},\n",
      "           {'href': '/credentials/domains/Docker_Registr_Domain/users/sasdemo',\n",
      "            'method': 'DELETE',\n",
      "            'rel': 'delete',\n",
      "            'type': 'application/vnd.sas.credential',\n",
      "            'uri': '/credentials/domains/Docker_Registr_Domain/users/sasdemo'}],\n",
      " 'modifiedBy': 'sasdemo',\n",
      " 'modifiedTimeStamp': '2022-02-10T10:20:36.934Z',\n",
      " 'properties': {'dockerRegistryUserId': 'c2FoYmlj'},\n",
      " 'version': 1}\n"
     ]
    }
   ],
   "source": [
    "user_credential_name = admin_userId\n",
    "my_credential_url = my_domain_url + \"/users/\" + user_credential_name\n",
    "\n",
    "userId = settings['registryuser']\n",
    "password = settings['registrypassword']\n",
    "\n",
    "encoded_userId = str(base64.b64encode(userId.encode(\"utf-8\")), \"utf-8\")\n",
    "encoded_password = str(base64.b64encode(password.encode(\"utf-8\")), \"utf-8\")\n",
    "\n",
    "credential_attrs = {\n",
    "    \"domainId\":domain_name,\n",
    "    \"identityType\":\"user\",\n",
    "    \"identityId\":user_credential_name,\n",
    "    \"domainType\":\"base64\",\n",
    "    \"properties\":{\"dockerRegistryUserId\":encoded_userId},\n",
    "    \"secrets\":{\"dockerRegistryPasswd\":encoded_password}\n",
    "}\n",
    "\n",
    "credential = requests.put(my_credential_url, \n",
    "                       data=json.dumps(credential_attrs), headers=credential_user_headers)\n",
    "\n",
    "print(credential)\n",
    "pprint.pprint(credential.json())"
   ]
  },
  {
   "cell_type": "markdown",
   "metadata": {},
   "source": [
    "## Create a Private Docker Destination"
   ]
  },
  {
   "cell_type": "code",
   "execution_count": 31,
   "metadata": {},
   "outputs": [
    {
     "name": "stdout",
     "output_type": "stream",
     "text": [
      "<Response [201]>\n",
      "{'createdBy': 'sasdemo',\n",
      " 'creationTimeStamp': '2022-02-10T10:21:05.308Z',\n",
      " 'destinationType': 'privateDocker',\n",
      " 'id': '54d57d7e-94aa-423f-b55d-c818c31d4ffe',\n",
      " 'links': [{'href': '/modelPublish/destinations',\n",
      "            'method': 'GET',\n",
      "            'rel': 'up',\n",
      "            'type': 'application/vnd.sas.collection',\n",
      "            'uri': '/modelPublish/destinations'},\n",
      "           {'href': '/modelPublish/destinations/Private_Docker_SAS_FR',\n",
      "            'method': 'GET',\n",
      "            'rel': 'self',\n",
      "            'type': 'application/vnd.sas.models.publishing.destination',\n",
      "            'uri': '/modelPublish/destinations/Private_Docker_SAS_FR'},\n",
      "           {'href': '/modelPublish/destinations/Private_Docker_SAS_FR',\n",
      "            'method': 'PUT',\n",
      "            'rel': 'update',\n",
      "            'type': 'application/vnd.sas.models.publishing.destination',\n",
      "            'uri': '/modelPublish/destinations/Private_Docker_SAS_FR'},\n",
      "           {'href': '/modelPublish/destinations/Private_Docker_SAS_FR',\n",
      "            'method': 'DELETE',\n",
      "            'rel': 'delete',\n",
      "            'uri': '/modelPublish/destinations/Private_Docker_SAS_FR'}],\n",
      " 'modifiedBy': 'sasdemo',\n",
      " 'modifiedTimeStamp': '2022-02-10T10:21:05.308Z',\n",
      " 'name': 'Private_Docker_SAS_FR',\n",
      " 'properties': [{'name': 'credDomainId', 'value': 'Docker_Registr_Domain'},\n",
      "                {'name': 'baseRepoUrl',\n",
      "                 'value': 'docker-registry-frascb.unx.sas.com'}],\n",
      " 'version': 1}\n"
     ]
    }
   ],
   "source": [
    "# Creates a new Harbor destination, expecting a response code of 201.\n",
    "\n",
    "dest_name = settings[\"destinationname\"]\n",
    "domainName = settings[\"domainname\"]\n",
    "baseRepoUrl = settings[\"registryurl\"]\n",
    "\n",
    "destination_attrs = {\n",
    "    \"name\":dest_name,\n",
    "    \"destinationType\":\"privateDocker\",\n",
    "     \"properties\": [{\"name\": \"credDomainId\",\n",
    "                    \"value\": domainName},\n",
    "                    {\"name\": \"baseRepoUrl\",\n",
    "                    \"value\": baseRepoUrl}\n",
    "                   ]\n",
    "}\n",
    "\n",
    "destination = requests.post(destination_url, data=json.dumps(destination_attrs), headers=destination_harbor_headers)\n",
    "\n",
    "print(destination)\n",
    "pprint.pprint(destination.json())"
   ]
  },
  {
   "cell_type": "markdown",
   "metadata": {},
   "source": [
    "## Delete a Destination"
   ]
  },
  {
   "cell_type": "code",
   "execution_count": 32,
   "metadata": {},
   "outputs": [
    {
     "name": "stdout",
     "output_type": "stream",
     "text": [
      "http://10.96.17.246/modelPublish/destinations/Private_Docker_SAS_FR\n",
      "<Response [204]>\n"
     ]
    }
   ],
   "source": [
    "dest_name = settings[\"destinationname\"]\n",
    "\n",
    "deletedURL = destination_url + dest_name\n",
    "\n",
    "destination = requests.delete(deletedURL, headers=credential_admin_headers)\n",
    "\n",
    "print(deletedURL)\n",
    "print(destination)"
   ]
  },
  {
   "cell_type": "code",
   "execution_count": null,
   "metadata": {},
   "outputs": [],
   "source": []
  }
 ],
 "metadata": {
  "kernelspec": {
   "display_name": "Python 3",
   "language": "python",
   "name": "python3"
  },
  "language_info": {
   "codemirror_mode": {
    "name": "ipython",
    "version": 3
   },
   "file_extension": ".py",
   "mimetype": "text/x-python",
   "name": "python",
   "nbconvert_exporter": "python",
   "pygments_lexer": "ipython3",
   "version": "3.7.3"
  }
 },
 "nbformat": 4,
 "nbformat_minor": 4
}
